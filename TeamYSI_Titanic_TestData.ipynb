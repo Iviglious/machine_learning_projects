{
 "cells": [
  {
   "cell_type": "markdown",
   "metadata": {},
   "source": [
    "# Team YSI - Titanic: Machine Learning from Disaster"
   ]
  },
  {
   "cell_type": "markdown",
   "metadata": {},
   "source": [
    "### Exploring the test data"
   ]
  },
  {
   "cell_type": "code",
   "execution_count": 1,
   "metadata": {
    "collapsed": false
   },
   "outputs": [
    {
     "name": "stdout",
     "output_type": "stream",
     "text": [
      "PassengerId                 892\n",
      "Pclass                        3\n",
      "Name           Kelly, Mr. James\n",
      "Sex                        male\n",
      "Age                        34.5\n",
      "SibSp                         0\n",
      "Parch                         0\n",
      "Ticket                   330911\n",
      "Fare                     7.8292\n",
      "Cabin                       NaN\n",
      "Embarked                      Q\n",
      "Name: 0, dtype: object\n",
      "\n",
      "PassengerId                                 893\n",
      "Pclass                                        3\n",
      "Name           Wilkes, Mrs. James (Ellen Needs)\n",
      "Sex                                      female\n",
      "Age                                          47\n",
      "SibSp                                         1\n",
      "Parch                                         0\n",
      "Ticket                                   363272\n",
      "Fare                                          7\n",
      "Cabin                                       NaN\n",
      "Embarked                                      S\n",
      "Name: 1, dtype: object\n",
      "\n",
      "PassengerId                   1308\n",
      "Pclass                           3\n",
      "Name           Ware, Mr. Frederick\n",
      "Sex                           male\n",
      "Age                            NaN\n",
      "SibSp                            0\n",
      "Parch                            0\n",
      "Ticket                      359309\n",
      "Fare                          8.05\n",
      "Cabin                          NaN\n",
      "Embarked                         S\n",
      "Name: 416, dtype: object\n",
      "\n",
      "PassengerId                        1309\n",
      "Pclass                                3\n",
      "Name           Peter, Master. Michael J\n",
      "Sex                                male\n",
      "Age                                 NaN\n",
      "SibSp                                 1\n",
      "Parch                                 1\n",
      "Ticket                             2668\n",
      "Fare                            22.3583\n",
      "Cabin                               NaN\n",
      "Embarked                              C\n",
      "Name: 417, dtype: object\n",
      "\n"
     ]
    }
   ],
   "source": [
    "import pandas as pd\n",
    "import csv as csv\n",
    "import numpy as np\n",
    "\n",
    "# Load the training data into data frame\n",
    "main_train_df = pd.read_csv('input/test.csv', header=0)\n",
    "\n",
    "# show first 2 rows\n",
    "print main_train_df.ix[0]\n",
    "print \"\"\n",
    "print main_train_df.ix[1]\n",
    "print \"\"\n",
    "# show last 2 rows\n",
    "print main_train_df.iloc[-2]\n",
    "print \"\"\n",
    "print main_train_df.iloc[-1]\n",
    "print \"\""
   ]
  },
  {
   "cell_type": "code",
   "execution_count": 3,
   "metadata": {
    "collapsed": false
   },
   "outputs": [
    {
     "name": "stdout",
     "output_type": "stream",
     "text": [
      "Pclass: 1, 2, 3\n",
      "Sex: female, male\n",
      "SibSp: 0, 1, 2, 3, 4, 5, 8\n",
      "Parch: 0, 1, 2, 3, 4, 5, 6, 9\n",
      "Embarked: C, Q, S\n"
     ]
    }
   ],
   "source": [
    "# Show the unique values in some columns\n",
    "print 'Pclass: ' + ', '.join(map(str, np.unique(main_train_df['Pclass'])))\n",
    "print 'Sex: ' + ', '.join(map(str, np.unique(main_train_df['Sex'])))\n",
    "print 'SibSp: ' + ', '.join(map(str, np.unique(main_train_df['SibSp'])))\n",
    "print 'Parch: ' + ', '.join(map(str, np.unique(main_train_df['Parch'])))\n",
    "print 'Embarked: ' + ', '.join(map(str, np.unique(main_train_df['Embarked'])))"
   ]
  },
  {
   "cell_type": "markdown",
   "metadata": {
    "collapsed": true
   },
   "source": [
    "### Show average age per gender"
   ]
  },
  {
   "cell_type": "code",
   "execution_count": 5,
   "metadata": {
    "collapsed": false
   },
   "outputs": [
    {
     "name": "stdout",
     "output_type": "stream",
     "text": [
      "Total women: 152, total age: 3844.59, avg: 25.2933552632\n",
      "Total men: 266, total age: 6205.91, avg: 23.3304887218\n"
     ]
    }
   ],
   "source": [
    "women_only_stats = main_train_df['Sex'] == 'female'\n",
    "men_only_stats = main_train_df['Sex'] != 'female'\n",
    "\n",
    "total_count_w = np.sum(women_only_stats)\n",
    "total_count_m = np.sum(men_only_stats)\n",
    "total_age_w = np.sum(main_train_df.ix[women_only_stats, 'Age'].dropna().astype(np.float))\n",
    "total_age_m = np.sum(main_train_df.ix[men_only_stats,   'Age'].dropna().astype(np.float))\n",
    "\n",
    "print \"Total women: %s, total age: %s, avg: %s\" %(total_count_w, total_age_w, total_age_w/total_count_w)\n",
    "print \"Total men: %s, total age: %s, avg: %s\" %(total_count_m, total_age_m, total_age_m/total_count_m)\n"
   ]
  },
  {
   "cell_type": "code",
   "execution_count": null,
   "metadata": {
    "collapsed": true
   },
   "outputs": [],
   "source": []
  }
 ],
 "metadata": {
  "anaconda-cloud": {},
  "kernelspec": {
   "display_name": "Python [default]",
   "language": "python",
   "name": "python2"
  },
  "language_info": {
   "codemirror_mode": {
    "name": "ipython",
    "version": 2
   },
   "file_extension": ".py",
   "mimetype": "text/x-python",
   "name": "python",
   "nbconvert_exporter": "python",
   "pygments_lexer": "ipython2",
   "version": "2.7.12"
  }
 },
 "nbformat": 4,
 "nbformat_minor": 1
}
