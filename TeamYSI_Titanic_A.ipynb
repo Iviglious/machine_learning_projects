{
 "cells": [
  {
   "cell_type": "markdown",
   "metadata": {},
   "source": [
    "# Team YSI - Titanic: Machine Learning from Disaster"
   ]
  },
  {
   "cell_type": "markdown",
   "metadata": {},
   "source": [
    "### Exploring the data"
   ]
  },
  {
   "cell_type": "code",
   "execution_count": 57,
   "metadata": {
    "collapsed": false
   },
   "outputs": [
    {
     "name": "stdout",
     "output_type": "stream",
     "text": [
      "PassengerId                          1\n",
      "Survived                             0\n",
      "Pclass                               3\n",
      "Name           Braund, Mr. Owen Harris\n",
      "Sex                               male\n",
      "Age                                 22\n",
      "SibSp                                1\n",
      "Parch                                0\n",
      "Ticket                       A/5 21171\n",
      "Fare                              7.25\n",
      "Cabin                              NaN\n",
      "Embarked                             S\n",
      "Name: 0, dtype: object\n",
      "\n",
      "PassengerId                                                    2\n",
      "Survived                                                       1\n",
      "Pclass                                                         1\n",
      "Name           Cumings, Mrs. John Bradley (Florence Briggs Th...\n",
      "Sex                                                       female\n",
      "Age                                                           38\n",
      "SibSp                                                          1\n",
      "Parch                                                          0\n",
      "Ticket                                                  PC 17599\n",
      "Fare                                                     71.2833\n",
      "Cabin                                                        C85\n",
      "Embarked                                                       C\n",
      "Name: 1, dtype: object\n",
      "\n",
      "PassengerId                      890\n",
      "Survived                           1\n",
      "Pclass                             1\n",
      "Name           Behr, Mr. Karl Howell\n",
      "Sex                             male\n",
      "Age                               26\n",
      "SibSp                              0\n",
      "Parch                              0\n",
      "Ticket                        111369\n",
      "Fare                              30\n",
      "Cabin                           C148\n",
      "Embarked                           C\n",
      "Name: 889, dtype: object\n",
      "\n",
      "PassengerId                    891\n",
      "Survived                         0\n",
      "Pclass                           3\n",
      "Name           Dooley, Mr. Patrick\n",
      "Sex                           male\n",
      "Age                             32\n",
      "SibSp                            0\n",
      "Parch                            0\n",
      "Ticket                      370376\n",
      "Fare                          7.75\n",
      "Cabin                          NaN\n",
      "Embarked                         Q\n",
      "Name: 890, dtype: object\n",
      "\n"
     ]
    }
   ],
   "source": [
    "import pandas as pd\n",
    "import csv as csv\n",
    "import numpy as np\n",
    "import matplotlib.pyplot as plt\n",
    "\n",
    "# Load the training data into data frame\n",
    "main_train_df = pd.read_csv('input/train.csv', header=0)\n",
    "\n",
    "# show first 2 rows\n",
    "print main_train_df.ix[0]\n",
    "print \"\"\n",
    "print main_train_df.ix[1]\n",
    "print \"\"\n",
    "# show last 2 rows\n",
    "print main_train_df.iloc[-2]\n",
    "print \"\"\n",
    "print main_train_df.iloc[-1]\n",
    "print \"\""
   ]
  },
  {
   "cell_type": "code",
   "execution_count": 58,
   "metadata": {
    "collapsed": false
   },
   "outputs": [
    {
     "name": "stdout",
     "output_type": "stream",
     "text": [
      "0.383838383838\n"
     ]
    }
   ],
   "source": [
    "# The size() function counts how many elements are in\n",
    "# in the array and sum() (as you would expects) sums up\n",
    "# the elements in the array.\n",
    "\n",
    "number_passengers = np.size(main_train_df['Survived'].astype(np.float))\n",
    "number_survived = np.sum(main_train_df['Survived'].astype(np.float))\n",
    "proportion_survivors = number_survived / number_passengers\n",
    "\n",
    "print proportion_survivors"
   ]
  },
  {
   "cell_type": "code",
   "execution_count": 86,
   "metadata": {
    "collapsed": false
   },
   "outputs": [
    {
     "name": "stdout",
     "output_type": "stream",
     "text": [
      "Survived: 0, 1\n",
      "Pclass: 1, 2, 3\n",
      "Sex: female, male\n",
      "SibSp: 0, 1, 2, 3, 4, 5, 8\n",
      "Parch: 0, 1, 2, 3, 4, 5, 6\n",
      "Embarked: nan, C, Q, S\n"
     ]
    }
   ],
   "source": [
    "# Show the unique values in some columns\n",
    "print 'Survived: ' + ', '.join(map(str, np.unique(main_train_df['Survived'])))\n",
    "print 'Pclass: ' + ', '.join(map(str, np.unique(main_train_df['Pclass'])))\n",
    "print 'Sex: ' + ', '.join(map(str, np.unique(main_train_df['Sex'])))\n",
    "print 'SibSp: ' + ', '.join(map(str, np.unique(main_train_df['SibSp'])))\n",
    "print 'Parch: ' + ', '.join(map(str, np.unique(main_train_df['Parch'])))\n",
    "print 'Embarked: ' + ', '.join(map(str, np.unique(main_train_df['Embarked'])))\n",
    "\n",
    "#print \"Null values\" + main_train_df[(main_train_df['Age'] == \"\")]"
   ]
  },
  {
   "cell_type": "code",
   "execution_count": 109,
   "metadata": {
    "collapsed": false
   },
   "outputs": [
    {
     "data": {
      "image/png": "[encoded data removed]",
      "text/plain": [
       "<matplotlib.figure.Figure at 0x7f569c6e9b50>"
      ]
     },
     "metadata": {},
     "output_type": "display_data"
    },
    {
     "data": {
      "image/png": "[encoded data removed]",
      "text/plain": [
       "<matplotlib.figure.Figure at 0x7f569c90c350>"
      ]
     },
     "metadata": {},
     "output_type": "display_data"
    }
   ],
   "source": [
    "plt.figure(figsize=(8,4), dpi=100)\n",
    "plt.subplot(131)\n",
    "plt.title('Survived')\n",
    "plt.xlabel('0 - No / 1 - Yes')\n",
    "main_train_df['Survived'].fillna(-1).plot.hist()\n",
    "\n",
    "plt.subplot(132)\n",
    "plt.title('Pclass')\n",
    "plt.xlabel('Value')\n",
    "main_train_df['Pclass'].fillna(-10).plot.hist()\n",
    "\n",
    "plt.subplot(133)\n",
    "plt.title('Gender')\n",
    "plt.xlabel('0 - Female / 1 - Male')\n",
    "# female = 0, male = 1\n",
    "main_train_df['Gender'] = main_train_df['Sex'].map( {'female': 0, 'male': 1, np.nan: -1} ).astype(int)\n",
    "main_train_df['Gender'].fillna(-1).plot.hist()\n",
    "\n",
    "plt.figure(figsize=(8,4))\n",
    "plt.subplot(131)\n",
    "plt.title('SibSp')\n",
    "plt.xlabel('Value')\n",
    "main_train_df['SibSp'].fillna(-10).plot.hist()\n",
    "\n",
    "plt.subplot(132)\n",
    "plt.title('Parch')\n",
    "plt.xlabel('Value')\n",
    "main_train_df['Parch'].fillna(-10).plot.hist()\n",
    "\n",
    "#plt.figure()\n",
    "#main_train_df['Embarked'].plot.hist()\n",
    "\n",
    "plt.subplot(133)\n",
    "plt.title('Age')\n",
    "plt.xlabel('Value')\n",
    "main_train_df['Age'].fillna(-10).plot.hist(bins=20)\n",
    "\n",
    "plt.show()"
   ]
  },
  {
   "cell_type": "code",
   "execution_count": 46,
   "metadata": {
    "collapsed": false
   },
   "outputs": [
    {
     "name": "stdout",
     "output_type": "stream",
     "text": [
      "Proportion of women (314) who survived (233.0) is 0.742038216561 \n",
      "Proportion of men (577) who survived (109.0) is 0.188908145581\n"
     ]
    }
   ],
   "source": [
    "women_only_stats = main_train_df['Sex'] == \"female\" # This finds where all \n",
    "                                           # the elements in the gender\n",
    "                                           # column that equals “female”\n",
    "men_only_stats = main_train_df['Sex'] != \"female\"   # This finds where all the \n",
    "                                           # elements do not equal \n",
    "                                           # female (i.e. male)\n",
    "\n",
    "# Using the index from above we select the females and males separately\n",
    "women_onboard = main_train_df.ix[women_only_stats, 'Survived'].astype(np.float)\n",
    "men_onboard = main_train_df.ix[men_only_stats, 'Survived'].astype(np.float)\n",
    "\n",
    "# Then we finds the proportions of them that survived\n",
    "proportion_women_survived = np.sum(women_onboard) / np.size(women_onboard)\n",
    "proportion_men_survived = np.sum(men_onboard) / np.size(men_onboard)\n",
    "\n",
    "# and then print it out\n",
    "print 'Proportion of women (%s) who survived (%s) is %s ' %(np.size(women_onboard), np.sum(women_onboard), proportion_women_survived)\n",
    "print 'Proportion of men (%s) who survived (%s) is %s' %(np.size(men_onboard), np.sum(men_onboard), proportion_men_survived)"
   ]
  },
  {
   "cell_type": "markdown",
   "metadata": {
    "collapsed": true
   },
   "source": [
    "### Show average age per gender"
   ]
  },
  {
   "cell_type": "code",
   "execution_count": 49,
   "metadata": {
    "collapsed": false
   },
   "outputs": [
    {
     "name": "stdout",
     "output_type": "stream",
     "text": [
      "Total women: 314, total age: 7286.0, avg: 23.2038216561\n",
      "Total men: 577, total age: 13919.17, avg: 24.1233448873\n"
     ]
    }
   ],
   "source": [
    "total_count_w = np.sum(women_only_stats)\n",
    "total_count_m = np.sum(men_only_stats)\n",
    "total_age_w = np.sum(main_train_df.ix[women_only_stats, 'Age'].dropna().astype(np.float))\n",
    "total_age_m = np.sum(main_train_df.ix[men_only_stats,   'Age'].dropna().astype(np.float))\n",
    "\n",
    "print \"Total women: %s, total age: %s, avg: %s\" %(total_count_w, total_age_w, total_age_w/total_count_w)\n",
    "print \"Total men: %s, total age: %s, avg: %s\" %(total_count_m, total_age_m, total_age_m/total_count_m)\n"
   ]
  },
  {
   "cell_type": "code",
   "execution_count": null,
   "metadata": {
    "collapsed": true
   },
   "outputs": [],
   "source": []
  }
 ],
 "metadata": {
  "anaconda-cloud": {},
  "kernelspec": {
   "display_name": "Python [default]",
   "language": "python",
   "name": "python2"
  },
  "language_info": {
   "codemirror_mode": {
    "name": "ipython",
    "version": 2
   },
   "file_extension": ".py",
   "mimetype": "text/x-python",
   "name": "python",
   "nbconvert_exporter": "python",
   "pygments_lexer": "ipython2",
   "version": "2.7.12"
  }
 },
 "nbformat": 4,
 "nbformat_minor": 1
}
