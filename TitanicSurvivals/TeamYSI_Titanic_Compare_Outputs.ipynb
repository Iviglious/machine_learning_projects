{
 "cells": [
  {
   "cell_type": "markdown",
   "metadata": {},
   "source": [
    "# Team YSI - Titanic: Machine Learning from Disaster"
   ]
  },
  {
   "cell_type": "markdown",
   "metadata": {},
   "source": [
    "## Compare outputs"
   ]
  },
  {
   "cell_type": "code",
   "execution_count": 1,
   "metadata": {
    "collapsed": true
   },
   "outputs": [],
   "source": [
    "#########################################################################\n",
    "#\n",
    "# Titanic: Machine Learning from Disaster\n",
    "#\n",
    "# Python script for comparison of the output/results files\n",
    "#\n",
    "# Amendment date             Amended by            Description\n",
    "# 07/12/2016                 Ivaylo Shalev         Initial version.\n",
    "#\n",
    "#\n",
    "#########################################################################\n",
    "import numpy as np\n",
    "import pandas as pd\n",
    "import matplotlib.pyplot as plt"
   ]
  },
  {
   "cell_type": "code",
   "execution_count": 2,
   "metadata": {
    "collapsed": false
   },
   "outputs": [
    {
     "name": "stdout",
     "output_type": "stream",
     "text": [
      "   PassengerId  Survived\n",
      "0          892         0\n",
      "1          893         0\n",
      "2          894         0\n",
      "3          895         0\n",
      "4          896         1\n",
      "   PassengerId  Survived\n",
      "0          892         0\n",
      "1          893         0\n",
      "2          894         0\n",
      "3          895         1\n",
      "4          896         1\n"
     ]
    }
   ],
   "source": [
    "# Reading the output data (A vs B)\n",
    "out_a_df = pd.read_csv('output/myfirstdtree_formated.csv', header=0)      # Load the train file into a dataframe\n",
    "out_b_df = pd.read_csv('output/ysi_titanic_prediction.csv', header=0)        # Load the test file into a dataframe\n",
    "\n",
    "print out_a_df.head()\n",
    "print out_b_df.head()"
   ]
  },
  {
   "cell_type": "code",
   "execution_count": 3,
   "metadata": {
    "collapsed": false
   },
   "outputs": [
    {
     "name": "stdout",
     "output_type": "stream",
     "text": [
      "81.5789473684\n"
     ]
    }
   ],
   "source": [
    "# Compare both outputs\n",
    "compare_array = out_a_df.values == out_b_df.values\n",
    "#print compare_array\n",
    "print 100*compare_array[:,1].sum().astype(float)/compare_array[:,1].size"
   ]
  },
  {
   "cell_type": "code",
   "execution_count": null,
   "metadata": {
    "collapsed": true
   },
   "outputs": [],
   "source": []
  }
 ],
 "metadata": {
  "kernelspec": {
   "display_name": "Python [default]",
   "language": "python",
   "name": "python2"
  },
  "language_info": {
   "codemirror_mode": {
    "name": "ipython",
    "version": 2
   },
   "file_extension": ".py",
   "mimetype": "text/x-python",
   "name": "python",
   "nbconvert_exporter": "python",
   "pygments_lexer": "ipython2",
   "version": "2.7.12"
  }
 },
 "nbformat": 4,
 "nbformat_minor": 1
}
